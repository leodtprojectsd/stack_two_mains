{
 "cells": [
  {
   "attachments": {},
   "cell_type": "markdown",
   "metadata": {},
   "source": [
    "# This main complete \n",
    "\n",
    "This is the example with the COMPLETE SCRIPT. .ipynb or .py makes no difference. \n"
   ]
  },
  {
   "cell_type": "code",
   "execution_count": 1,
   "metadata": {},
   "outputs": [
    {
     "name": "stdout",
     "output_type": "stream",
     "text": [
      "33.0\n",
      "710\n",
      "23430.0\n"
     ]
    }
   ],
   "source": [
    "\n",
    "import pandas as pd\n",
    "import numpy as np\n",
    "\n",
    "#1. functions for import data #-> These functions into src/import_data/import_data.py\n",
    "def get_data_age():  \n",
    "    df = pd.DataFrame({\n",
    "        \"user_id\":     ['1', '2', '3', '4', '5'], \n",
    "        \"age\":         [10,  20,  30, \"55\", 50], \n",
    "    })\n",
    "    return df\n",
    "\n",
    "def get_data_height(): \n",
    "    df = pd.DataFrame({\n",
    "        \"user_id\":     ['5', '7', '12', '5'], \n",
    "        \"height\":      [160, 170, 180, 'replace_this_with_190']\n",
    "    })\n",
    "    return df\n",
    "\n",
    " #2. functions for cleaning data #-> These functions into src/clean_data/clean_data.py\n",
    "def clean_age (df): \n",
    "    df['age'] = pd.to_numeric(df['age'])\n",
    "    return df \n",
    "\n",
    "def clean_height (df): \n",
    "    df['height'] = df['height'].replace(\"replace_this_with_190\", 200)\n",
    "    return df \n",
    "\n",
    " #3. functions for processing data #-> These functions into src/alghorithms/calculations.py\n",
    "def alghorithm_age (df):\n",
    "    return df['age'].mean()\n",
    "\n",
    "def alghorithm_height (df):\n",
    "    return df['height'].sum()\n",
    "\n",
    " #4. functions in common (display data) #-> This functions into src/display_data/display_data.py\n",
    "def common_function_display_data (data): \n",
    "    print (data)\n",
    "\n",
    " #5. function that combines data from alghorithm_height and alghorithm_age #-> This functions into src/alghorithms/calculations.py\n",
    "def product_age_mean_and_height_sum(mean_age, sum_height): \n",
    "    return mean_age * sum_height\n",
    "\n",
    "\n",
    "#main 1 (age)\n",
    "df_age = get_data_age()    # -> this step into file main_age/00_import_and_clean_age.py\n",
    "df_age_clean = clean_age(df_age)  # -> this step into file main_age/00_import_and_clean_age.py\n",
    "age_mean = alghorithm_age(df_age_clean) # -> this step into main_age/file 01_process_age.py\n",
    "common_function_display_data(age_mean)# -> this step into main_age/file 02_display_age.py\n",
    "\n",
    "#main 2 (height)\n",
    "df_height = get_data_height()# -> this step into file main_height/00_import_and_clean_height.py\n",
    "df_height_clean = clean_height(df_height)# -> this step into file main_height/00_import_and_clean_height.py\n",
    "height_sum = alghorithm_height(df_height_clean)# -> this step into main_height/file 01_process_height.py\n",
    "common_function_display_data(height_sum)# -> this step into file main_height/02_display_height.py\n",
    "\n",
    "#main 3 (combined)\n",
    "age_mean_height_sum_product = product_age_mean_and_height_sum(age_mean, height_sum) # -> this step into file main_display_combined/display_combined.py\n",
    "common_function_display_data(age_mean_height_sum_product)# -> this step into file main_height/02_display_height.py\n"
   ]
  }
 ],
 "metadata": {
  "kernelspec": {
   "display_name": "base",
   "language": "python",
   "name": "python3"
  },
  "language_info": {
   "codemirror_mode": {
    "name": "ipython",
    "version": 3
   },
   "file_extension": ".py",
   "mimetype": "text/x-python",
   "name": "python",
   "nbconvert_exporter": "python",
   "pygments_lexer": "ipython3",
   "version": "3.9.13"
  },
  "orig_nbformat": 4,
  "vscode": {
   "interpreter": {
    "hash": "5fc835448025bb9b33f73a2a0c5b65f552923f57448f4032a29b8625685b062b"
   }
  }
 },
 "nbformat": 4,
 "nbformat_minor": 2
}
