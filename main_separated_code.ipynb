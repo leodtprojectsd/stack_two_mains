{
 "cells": [
  {
   "attachments": {},
   "cell_type": "markdown",
   "metadata": {},
   "source": [
    "# Example separated code.\n",
    "\n",
    "I want to obtain something similar to this, except with \n",
    " - \"main one age\" in the folder ->  main_one_age/\n",
    " - \"main two height\" in the folder -> main_two_height/\n",
    " - \"main three display\" in the folder -> main_display_combined/"
   ]
  },
  {
   "cell_type": "code",
   "execution_count": 2,
   "metadata": {},
   "outputs": [],
   "source": [
    " # general imports \n",
    "import paths_for_data_etc # this has all the data paths. \n",
    "import pandas  as pd "
   ]
  },
  {
   "cell_type": "markdown",
   "metadata": {
    "tags": []
   },
   "source": [
    "# main one age "
   ]
  },
  {
   "cell_type": "code",
   "execution_count": 3,
   "metadata": {},
   "outputs": [],
   "source": [
    "from main_one_age import import_and_clean_age_00\n",
    "from main_one_age import process_age_01\n",
    "from main_one_age import display_age_02 "
   ]
  },
  {
   "cell_type": "markdown",
   "metadata": {},
   "source": [
    "## import and clean age 00"
   ]
  },
  {
   "cell_type": "code",
   "execution_count": 4,
   "metadata": {},
   "outputs": [],
   "source": [
    "df_age_clean = import_and_clean_age_00.import_clean_age()\n",
    "# save in clean \n",
    "df_age_clean.to_csv(paths_for_data_etc.age_clean_data_path, index=False)"
   ]
  },
  {
   "cell_type": "markdown",
   "metadata": {},
   "source": [
    "## process age "
   ]
  },
  {
   "cell_type": "code",
   "execution_count": 5,
   "metadata": {},
   "outputs": [],
   "source": [
    " # reload data from clean\n",
    "df_age_clean = pd.read_csv(paths_for_data_etc.age_clean_data_path)\n",
    "age_mean = process_age_01.process_age(df_age_clean)"
   ]
  },
  {
   "cell_type": "markdown",
   "metadata": {},
   "source": [
    "## display age "
   ]
  },
  {
   "cell_type": "code",
   "execution_count": 6,
   "metadata": {},
   "outputs": [
    {
     "name": "stdout",
     "output_type": "stream",
     "text": [
      "33.0\n"
     ]
    }
   ],
   "source": [
    "display_age_02.display_data_main_one(age_mean)"
   ]
  },
  {
   "cell_type": "markdown",
   "metadata": {},
   "source": [
    "# main two height "
   ]
  },
  {
   "cell_type": "code",
   "execution_count": 7,
   "metadata": {},
   "outputs": [],
   "source": [
    "from main_two_height import import_and_clean_height_00\n",
    "from main_two_height import process_height_01\n",
    "from main_two_height import display_height_02 "
   ]
  },
  {
   "cell_type": "markdown",
   "metadata": {},
   "source": [
    "## import_and_clean_height_00"
   ]
  },
  {
   "cell_type": "code",
   "execution_count": 8,
   "metadata": {},
   "outputs": [],
   "source": [
    "df_height_clean = import_and_clean_height_00.import_clean_height()\n",
    " # save to clean\n",
    "df_height_clean.to_csv(paths_for_data_etc.height_clean_data_path, index=False)"
   ]
  },
  {
   "cell_type": "code",
   "execution_count": 9,
   "metadata": {},
   "outputs": [],
   "source": [
    " # reload data from clean\n",
    "df_height_clean  =  pd.read_csv(paths_for_data_etc.height_clean_data_path)\n",
    "height_sum = process_height_01.process_height(df_height_clean)"
   ]
  },
  {
   "attachments": {},
   "cell_type": "markdown",
   "metadata": {},
   "source": [
    "## display height "
   ]
  },
  {
   "cell_type": "code",
   "execution_count": 10,
   "metadata": {},
   "outputs": [
    {
     "name": "stdout",
     "output_type": "stream",
     "text": [
      "710\n"
     ]
    }
   ],
   "source": [
    "display_height_02.display_data_main_one(height_sum)"
   ]
  },
  {
   "cell_type": "markdown",
   "metadata": {},
   "source": [
    "# main three display"
   ]
  },
  {
   "cell_type": "code",
   "execution_count": 11,
   "metadata": {},
   "outputs": [
    {
     "data": {
      "text/plain": [
       "23430.0"
      ]
     },
     "execution_count": 11,
     "metadata": {},
     "output_type": "execute_result"
    }
   ],
   "source": [
    "from main_display_combined import display_combined\n",
    "display_combined.display_combined(age_mean, height_sum)"
   ]
  }
 ],
 "metadata": {
  "kernelspec": {
   "display_name": "base",
   "language": "python",
   "name": "python3"
  },
  "language_info": {
   "codemirror_mode": {
    "name": "ipython",
    "version": 3
   },
   "file_extension": ".py",
   "mimetype": "text/x-python",
   "name": "python",
   "nbconvert_exporter": "python",
   "pygments_lexer": "ipython3",
   "version": "3.9.13 (main, Aug 25 2022, 23:51:50) [MSC v.1916 64 bit (AMD64)]"
  },
  "orig_nbformat": 4,
  "vscode": {
   "interpreter": {
    "hash": "5fc835448025bb9b33f73a2a0c5b65f552923f57448f4032a29b8625685b062b"
   }
  }
 },
 "nbformat": 4,
 "nbformat_minor": 2
}
